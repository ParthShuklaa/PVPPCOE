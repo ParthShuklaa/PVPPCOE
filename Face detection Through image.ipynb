{
 "cells": [
  {
   "cell_type": "code",
   "execution_count": 1,
   "metadata": {},
   "outputs": [
    {
     "name": "stdout",
     "output_type": "stream",
     "text": [
      "Number of faces found: 5\n"
     ]
    }
   ],
   "source": [
    "import cv2\n",
    "import os\n",
    " \n",
    "def find_faces(image_path):\n",
    "    image = cv2.imread(image_path)\n",
    " \n",
    "    # Make a copy to prevent us from modifying the original\n",
    "    color_img = image.copy()\n",
    " \n",
    "    filename = os.path.basename(image_path)\n",
    " \n",
    "    # OpenCV works best with gray images\n",
    "    gray_img = cv2.cvtColor(color_img, cv2.COLOR_BGR2GRAY)\n",
    " \n",
    "    # Use OpenCV's built-in Haar classifier\n",
    "    haar_classifier = cv2.CascadeClassifier('haarcascade_frontalface_alt.xml')\n",
    "    eye_cascade = cv2.CascadeClassifier('haarcascade_eye.xml')\n",
    " \n",
    "    faces = haar_classifier.detectMultiScale(gray_img, scaleFactor=1.1, minNeighbors=5)\n",
    "    print('Number of faces found: {faces}'.format(faces=len(faces)))\n",
    " \n",
    "    for (x, y, width, height) in faces:\n",
    "        cv2.rectangle(color_img, (x, y), (x+width, y+height), (0, 255, 255), 2)\n",
    "        roi_gray = gray_img[y:y+height, x:x+width]\n",
    "        roi_color = color_img[y:y+height, x:x+width]\n",
    "        eyes = eye_cascade.detectMultiScale(roi_gray)\n",
    "        for (ex,ey,ew,eh) in eyes:\n",
    "            cv2.rectangle(roi_color,(ex,ey),(ex+ew,ey+eh),(0,255,0),2)\n",
    " \n",
    "    # Show the faces / eyes found\n",
    "    cv2.imshow(filename, color_img)\n",
    "    cv2.waitKey(0) \n",
    "    cv2.destroyAllWindows()\n",
    " \n",
    "if __name__ == '__main__':\n",
    "    find_faces('NM.jpg')"
   ]
  },
  {
   "cell_type": "code",
   "execution_count": null,
   "metadata": {},
   "outputs": [],
   "source": []
  },
  {
   "cell_type": "code",
   "execution_count": null,
   "metadata": {},
   "outputs": [],
   "source": []
  }
 ],
 "metadata": {
  "kernelspec": {
   "display_name": "Python 3",
   "language": "python",
   "name": "python3"
  },
  "language_info": {
   "codemirror_mode": {
    "name": "ipython",
    "version": 3
   },
   "file_extension": ".py",
   "mimetype": "text/x-python",
   "name": "python",
   "nbconvert_exporter": "python",
   "pygments_lexer": "ipython3",
   "version": "3.6.5"
  }
 },
 "nbformat": 4,
 "nbformat_minor": 2
}
